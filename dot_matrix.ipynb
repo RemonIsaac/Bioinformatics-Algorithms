{
 "metadata": {
  "language_info": {
   "codemirror_mode": {
    "name": "ipython",
    "version": 3
   },
   "file_extension": ".py",
   "mimetype": "text/x-python",
   "name": "python",
   "nbconvert_exporter": "python",
   "pygments_lexer": "ipython3",
   "version": "3.7.5"
  },
  "orig_nbformat": 2,
  "kernelspec": {
   "name": "python375jvsc74a57bd078b8828b60cb40b3810d2b94707db262e63bffecfbb42839414ffe4aa39d8ac1",
   "display_name": "Python 3.7.5 64-bit ('venv': venv)"
  },
  "metadata": {
   "interpreter": {
    "hash": "78b8828b60cb40b3810d2b94707db262e63bffecfbb42839414ffe4aa39d8ac1"
   }
  }
 },
 "nbformat": 4,
 "nbformat_minor": 2,
 "cells": [
  {
   "cell_type": "code",
   "execution_count": 1,
   "metadata": {},
   "outputs": [
    {
     "output_type": "stream",
     "name": "stdout",
     "text": [
      "|---|---|---|---|---|---|---|---|---|---|---|---|---|---|---|---|---|---|\n|   | A | C | C | T | T | G | T | C | C | T | C | T | T | G | C | C | C |\n| A |   |   |   |   |   |   |   |   |   |   |   |   |   |   |   |   |   |\n| C |   |   |   |   |   |   |   |   |   |   |   |   |   |   |   |   |   |\n| G |   |   |   |   |   |   |   |   |   |   |   |   |   |   |   |   |   |\n| T |   |   |   |   |   |   |   |   |   |   |   |   |   |   |   |   |   |\n| T |   |   |   |   | x |   |   |   |   |   |   |   |   |   |   |   |   |\n| G |   |   |   |   |   |   |   |   |   |   |   |   |   |   |   |   |   |\n| A |   |   |   |   |   |   |   |   |   |   |   |   |   |   |   |   |   |\n| C |   |   |   |   |   |   |   | x |   |   | x |   |   |   |   |   |   |\n| C |   |   |   |   |   |   |   |   |   |   |   |   |   |   |   |   |   |\n| T |   |   |   |   |   |   |   |   |   |   |   |   |   |   |   |   |   |\n| G |   |   |   |   | x |   |   |   |   |   | x |   |   |   |   |   |   |\n| T |   |   |   |   |   |   |   |   |   |   |   |   |   |   |   |   |   |\n| A |   |   |   |   |   |   |   |   |   |   |   |   |   |   |   |   |   |\n| A |   |   |   |   |   |   |   |   |   |   |   |   |   |   |   |   |   |\n| C |   |   |   |   |   |   |   |   |   |   |   |   |   |   |   |   |   |\n| C |   |   |   |   |   |   |   |   |   |   |   |   |   |   |   |   |   |\n| T |   |   |   |   |   |   |   |   |   |   |   |   |   |   |   |   |   |\n| C |   |   |   |   |   |   |   |   |   |   |   |   |   |   |   |   |   |\n"
     ]
    }
   ],
   "source": [
    "from tabulate import tabulate\n",
    "\n",
    "\n",
    "a = input(\"Enter the first DNA sequence: \")\n",
    "b = input(\"Enter the second DNA sequence: \")\n",
    "\n",
    "size = int(input(\"Enter your window size: \"))\n",
    "step = int(input(\"Enter your step: \"))\n",
    "thresh = int(input(\"Enter your threshold: \"))\n",
    "dot_arr = [[' ']* (len(a)+1) for i in range(len(b) + 1)] \n",
    "for i in range(1, len(a) + 1):\n",
    "    dot_arr[0][i] = a[i-1]\n",
    "\n",
    "for i in range(1, len(b) + 1):\n",
    "    dot_arr[i][0] = b[i-1]\n",
    "\n",
    "def thresh_check(a, b): \n",
    "    count = 0\n",
    "    for i,j in zip(a,b):\n",
    "        if i == j:\n",
    "            count += 1\n",
    "    if count >= thresh: \n",
    "        return True\n",
    "\n",
    "for i in range((((len(a) * (size - step))//size) + len(a))//size):\n",
    "    for j in range((((len(b) * (size - step))//size) + len(b))//size):\n",
    "        if thresh_check(a[i*step: i*step + size],b[j*step: j*step + size]): \n",
    "            dot_arr[j*step + size//2 + 1][i*step + size//2 + 1] = 'x'\n",
    "\n",
    "print(tabulate(dot_arr, tablefmt=\"github\"))"
   ]
  }
 ]
}