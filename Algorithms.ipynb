{
 "metadata": {
  "language_info": {
   "codemirror_mode": {
    "name": "ipython",
    "version": 3
   },
   "file_extension": ".py",
   "mimetype": "text/x-python",
   "name": "python",
   "nbconvert_exporter": "python",
   "pygments_lexer": "ipython3",
   "version": "3.7.5"
  },
  "orig_nbformat": 2,
  "kernelspec": {
   "name": "pythonjvsc74a57bd078b8828b60cb40b3810d2b94707db262e63bffecfbb42839414ffe4aa39d8ac1",
   "display_name": "Python 3.7.5 64-bit ('venv': venv)"
  },
  "metadata": {
   "interpreter": {
    "hash": "78b8828b60cb40b3810d2b94707db262e63bffecfbb42839414ffe4aa39d8ac1"
   }
  }
 },
 "nbformat": 4,
 "nbformat_minor": 2,
 "cells": [
  {
   "cell_type": "code",
   "execution_count": 1,
   "metadata": {},
   "outputs": [],
   "source": [
    "from tabulate import tabulate"
   ]
  },
  {
   "cell_type": "code",
   "execution_count": 2,
   "metadata": {},
   "outputs": [],
   "source": [
    "def dot_matrix(a, b, size, step, thresh):\n",
    "    dot_arr = [[' ']* (len(a)+1) for i in range(len(b) + 1)] \n",
    "    for i in range(1, len(a) + 1):\n",
    "        dot_arr[0][i] = a[i-1]\n",
    "\n",
    "    for i in range(1, len(b) + 1):\n",
    "        dot_arr[i][0] = b[i-1]\n",
    "\n",
    "    def thresh_check(a, b): \n",
    "        count = 0\n",
    "        for i,j in zip(a,b):\n",
    "            if i == j:\n",
    "                count += 1\n",
    "        if count >= thresh: \n",
    "            return True\n",
    "\n",
    "    for i in range((((len(a) * (size - step))//size) + len(a))//size):\n",
    "        for j in range((((len(b) * (size - step))//size) + len(b))//size):\n",
    "            if thresh_check(a[i*step: i*step + size],b[j*step: j*step + size]): \n",
    "                dot_arr[j*step + size//2 + 1][i*step + size//2 + 1] = 'x'\n",
    "\n",
    "    print(tabulate(dot_arr, tablefmt=\"github\"))"
   ]
  },
  {
   "cell_type": "code",
   "execution_count": 3,
   "metadata": {},
   "outputs": [
    {
     "output_type": "error",
     "ename": "IndentationError",
     "evalue": "unindent does not match any outer indentation level (<tokenize>, line 16)",
     "traceback": [
      "\u001b[1;36m  File \u001b[1;32m\"<tokenize>\"\u001b[1;36m, line \u001b[1;32m16\u001b[0m\n\u001b[1;33m    def p(alligns):\u001b[0m\n\u001b[1;37m    ^\u001b[0m\n\u001b[1;31mIndentationError\u001b[0m\u001b[1;31m:\u001b[0m unindent does not match any outer indentation level\n"
     ]
    }
   ],
   "source": [
    "\n",
    "def needleman(a, b, match, mismatch, gap):\n",
    "    dot_arr = [[' '] * (len(a) + 2) for i in range(len(b) + 2)]\n",
    "    dot_arr[0][1] = 'i'\n",
    "    dot_arr[1][0] = 'j'\n",
    "    dot_arr[1][1] = 0\n",
    "\n",
    "    for i in range(2, len(a) + 2):\n",
    "        dot_arr[0][i] = a[i-2]\n",
    "        dot_arr[1][i] = dot_arr[1][i-1] + gap\n",
    "\n",
    "    for i in range(2, len(b) + 2):\n",
    "        dot_arr[i][0] = b[i-2]\n",
    "        dot_arr[i][1] = dot_arr[i-1][1] + gap\n",
    "\n",
    "    def p(alligns):\n",
    "        cnt = 1\n",
    "        for i in alligns:   \n",
    "            print(f'\\n({cnt})\\n')\n",
    "            count = 0\n",
    "            for j in i:\n",
    "                if count == 2: \n",
    "                    print(f'Score: {j}')\n",
    "                else:\n",
    "                    print(j)\n",
    "                count += 1\n",
    "            cnt += 1\n",
    "\n",
    "    #Traceback Function   \n",
    "    def traceback(seq1, seq2, dot_arr, col, row):\n",
    "        allign = []\n",
    "        if col == 1 and row > 1:\n",
    "            return [['-' * len(seq2[:row - 1]), seq2[:row - 1], gap]]\n",
    "        if col > 1 and row == 1: \n",
    "            return [[seq1[:col - 1], '-' * len(seq1[:col - 1]), gap]]\n",
    "        if col == 1 and row == 1: \n",
    "            return [[\"\", \"\", 0]]\n",
    "\n",
    "        if seq1[col-2] == seq2[row-2]:\n",
    "            vals = traceback(seq1, seq2, dot_arr, col - 1, row - 1)\n",
    "            for value in vals:\n",
    "                value[0] += seq1[col-2]\n",
    "                value[1] += seq1[col-2]\n",
    "                value[2] += match\n",
    "            allign += vals\n",
    "        else:\n",
    "            up = dot_arr[row - 1][col] \n",
    "            left = dot_arr[row][col - 1]\n",
    "            diagonal = dot_arr[row - 1][col - 1]\n",
    "            maxi = max(up,left,diagonal)\n",
    "            if maxi == up:\n",
    "                vals = traceback(seq1, seq2, dot_arr, col, row - 1)\n",
    "                for value in vals:\n",
    "                    value[0] += '-'\n",
    "                    value[1] += seq2[row - 2]\n",
    "                    value[2] += gap\n",
    "                allign += vals\n",
    "            if maxi == left:\n",
    "                vals = traceback(seq1, seq2, dot_arr, col - 1, row)\n",
    "                for value in vals:\n",
    "                    value[0] += seq1[col - 2]\n",
    "                    value[1] += '-'\n",
    "                    value[2] += gap\n",
    "                allign += vals\n",
    "            if maxi == diagonal: \n",
    "                vals = traceback(seq1, seq2, dot_arr, col - 1, row - 1)\n",
    "                for value in vals:\n",
    "                    value[0] += seq1[col - 2]\n",
    "                    value[1] += seq2[row - 2]\n",
    "                    value[2] += mismatch\n",
    "                allign += vals\n",
    "        return allign\n",
    "\n",
    "\n",
    "    for i in range(2, len(a) + 2):\n",
    "        for j in range(2, len(b) + 2):\n",
    "            up = dot_arr[j-1][i] + gap\n",
    "            left = dot_arr[j][i-1] + gap\n",
    "            if dot_arr[j][0] == dot_arr[0][i]:\n",
    "                diagonal = dot_arr[j-1][i-1] + match\n",
    "            else:\n",
    "                diagonal = dot_arr[j-1][i-1] + mismatch\n",
    "            \n",
    "            dot_arr[j][i] = max(up, left, diagonal)\n",
    "\n",
    "\n",
    "    print(tabulate(dot_arr, tablefmt=\"github\"))\n",
    "    print(\"\\nTraceback: \")\n",
    "    #print(traceback(a, b, dot_arr, len(a) + 1, len(b) + 1))\n",
    "    final = traceback(a, b, dot_arr, len(a) + 1, len(b) + 1)\n",
    "    p(final)\n",
    "\n"
   ]
  },
  {
   "cell_type": "code",
   "execution_count": 4,
   "metadata": {},
   "outputs": [],
   "source": [
    "\n",
    "def waterman(a, b, match, mismatch, gap):\n",
    "    score = 0\n",
    "    dot_arr = [[' '] * (len(a) + 2) for i in range(len(b) + 2)]\n",
    "    dot_arr[0][1] = 'i'\n",
    "    dot_arr[1][0] = 'j'\n",
    "    dot_arr[1][1] = 0\n",
    "\n",
    "    def p(alligns):\n",
    "        cnt = 1\n",
    "        for i in alligns:   \n",
    "            print(f'\\n({cnt})\\n')\n",
    "            count = 0\n",
    "            for j in i:\n",
    "                if count == 2: \n",
    "                    print(f'Score: {j}')\n",
    "                else:\n",
    "                    print(j)\n",
    "                count += 1\n",
    "            cnt += 1\n",
    "\n",
    "    def traceback(seq1, seq2, dot_arr, col, row):\n",
    "        allign = []\n",
    "        if dot_arr[row][col] == 0: \n",
    "            return [[\"\", \"\", 0]]\n",
    "\n",
    "        if seq1[col-2] == seq2[row-2]:\n",
    "            vals = traceback(seq1, seq2, dot_arr, col - 1, row - 1)\n",
    "            for value in vals:\n",
    "                value[0] += seq1[col-2]\n",
    "                value[1] += seq1[col-2]\n",
    "                value[2] += match\n",
    "            allign += vals\n",
    "        else:\n",
    "            up = dot_arr[row - 1][col] \n",
    "            left = dot_arr[row][col - 1]\n",
    "            diagonal = dot_arr[row - 1][col - 1]\n",
    "            maxi = max(up,left,diagonal)\n",
    "            if maxi == up:\n",
    "                vals = traceback(seq1, seq2, dot_arr, col, row - 1)\n",
    "                for value in vals:\n",
    "                    value[0] += '-'\n",
    "                    value[1] += seq2[row - 2]\n",
    "                    value[2] += gap\n",
    "                allign += vals\n",
    "            if maxi == left:\n",
    "                vals = traceback(seq1, seq2, dot_arr, col - 1, row)\n",
    "                for value in vals:\n",
    "                    value[0] += seq1[col - 2]\n",
    "                    value[1] += '-'\n",
    "                    value[2] += gap\n",
    "                allign += vals\n",
    "            if maxi == diagonal: \n",
    "                vals = traceback(seq1, seq2, dot_arr, col - 1, row - 1)\n",
    "                for value in vals:\n",
    "                    value[0] += seq1[col - 2]\n",
    "                    value[1] += seq2[row - 2]\n",
    "                    value[2] += mismatch\n",
    "                allign += vals\n",
    "        return allign\n",
    "\n",
    "\n",
    "    for i in range(2, len(a) + 2):\n",
    "        dot_arr[0][i] = a[i-2]\n",
    "        dot_arr[1][i] = 0\n",
    "\n",
    "    for i in range(2, len(b) + 2):\n",
    "        dot_arr[i][0] = b[i-2]\n",
    "        dot_arr[i][1] = 0\n",
    "\n",
    "    max_value = 0\n",
    "    mx = 0\n",
    "    my = 0\n",
    "\n",
    "    for i in range(2, len(a) + 2):\n",
    "        for j in range(2, len(b) + 2):\n",
    "            up = dot_arr[j-1][i] + gap\n",
    "            left = dot_arr[j][i-1] + gap\n",
    "            if dot_arr[j][0] == dot_arr[0][i]:\n",
    "                diagonal = dot_arr[j-1][i-1] + match\n",
    "            else:\n",
    "                diagonal = dot_arr[j-1][i-1] + mismatch\n",
    "            dot_arr[j][i] = max(up, left, diagonal, 0)\n",
    "            if max_value <= dot_arr[j][i]:\n",
    "                max_value = dot_arr[j][i]\n",
    "                mx = j\n",
    "                my = i\n",
    "\n",
    "    print(tabulate(dot_arr, tablefmt=\"github\"))\n",
    "    final = traceback(a, b, dot_arr, my, mx)\n",
    "    p(final)\n",
    "\n"
   ]
  },
  {
   "cell_type": "code",
   "execution_count": 5,
   "metadata": {},
   "outputs": [
    {
     "output_type": "error",
     "ename": "NameError",
     "evalue": "name 'needleman' is not defined",
     "traceback": [
      "\u001b[1;31m---------------------------------------------------------------------------\u001b[0m",
      "\u001b[1;31mNameError\u001b[0m                                 Traceback (most recent call last)",
      "\u001b[1;32m<ipython-input-5-275b436da1cf>\u001b[0m in \u001b[0;36m<module>\u001b[1;34m\u001b[0m\n\u001b[1;32m----> 1\u001b[1;33m \u001b[0mneedleman\u001b[0m\u001b[1;33m(\u001b[0m\u001b[0ma\u001b[0m \u001b[1;33m=\u001b[0m \u001b[1;34m\"ACGTTGACCTGTAACCTC\"\u001b[0m \u001b[1;33m,\u001b[0m \u001b[0mb\u001b[0m \u001b[1;33m=\u001b[0m \u001b[1;34m\"ACCTTGTCCTCTTTGCCC\"\u001b[0m\u001b[1;33m,\u001b[0m \u001b[0mmatch\u001b[0m \u001b[1;33m=\u001b[0m \u001b[1;36m2\u001b[0m\u001b[1;33m,\u001b[0m \u001b[0mmismatch\u001b[0m\u001b[1;33m=\u001b[0m\u001b[1;33m-\u001b[0m\u001b[1;36m1\u001b[0m\u001b[1;33m,\u001b[0m \u001b[0mgap\u001b[0m \u001b[1;33m=\u001b[0m \u001b[1;33m-\u001b[0m\u001b[1;36m1\u001b[0m\u001b[1;33m)\u001b[0m\u001b[1;33m\u001b[0m\u001b[1;33m\u001b[0m\u001b[0m\n\u001b[0m",
      "\u001b[1;31mNameError\u001b[0m: name 'needleman' is not defined"
     ]
    }
   ],
   "source": [
    "needleman(a = \"ACGTTGACCTGTAACCTC\" , b = \"ACCTTGTCCTCTTTGCCC\", match = 2, mismatch=-1, gap = -1)"
   ]
  },
  {
   "cell_type": "code",
   "execution_count": 6,
   "metadata": {},
   "outputs": [
    {
     "output_type": "stream",
     "name": "stdout",
     "text": [
      "|---|---|---|---|---|---|---|---|---|----|----|----|----|----|----|----|----|----|----|----|\n|   | i | A | C | G | T | T | G | A | C  | C  | T  | G  | T  | A  | A  | C  | C  | T  | C  |\n| j | 0 | 0 | 0 | 0 | 0 | 0 | 0 | 0 | 0  | 0  | 0  | 0  | 0  | 0  | 0  | 0  | 0  | 0  | 0  |\n| A | 0 | 2 | 1 | 0 | 0 | 0 | 0 | 2 | 1  | 0  | 0  | 0  | 0  | 2  | 2  | 1  | 0  | 0  | 0  |\n| C | 0 | 1 | 4 | 3 | 2 | 1 | 0 | 1 | 4  | 3  | 2  | 1  | 0  | 1  | 1  | 4  | 3  | 2  | 2  |\n| C | 0 | 0 | 3 | 3 | 2 | 1 | 0 | 0 | 3  | 6  | 5  | 4  | 3  | 2  | 1  | 3  | 6  | 5  | 4  |\n| T | 0 | 0 | 2 | 2 | 5 | 4 | 3 | 2 | 2  | 5  | 8  | 7  | 6  | 5  | 4  | 3  | 5  | 8  | 7  |\n| T | 0 | 0 | 1 | 1 | 4 | 7 | 6 | 5 | 4  | 4  | 7  | 7  | 9  | 8  | 7  | 6  | 5  | 7  | 7  |\n| G | 0 | 0 | 0 | 3 | 3 | 6 | 9 | 8 | 7  | 6  | 6  | 9  | 8  | 8  | 7  | 6  | 5  | 6  | 6  |\n| T | 0 | 0 | 0 | 2 | 5 | 5 | 8 | 8 | 7  | 6  | 8  | 8  | 11 | 10 | 9  | 8  | 7  | 7  | 6  |\n| C | 0 | 0 | 2 | 1 | 4 | 4 | 7 | 7 | 10 | 9  | 8  | 7  | 10 | 10 | 9  | 11 | 10 | 9  | 9  |\n| C | 0 | 0 | 2 | 1 | 3 | 3 | 6 | 6 | 9  | 12 | 11 | 10 | 9  | 9  | 9  | 11 | 13 | 12 | 11 |\n| T | 0 | 0 | 1 | 1 | 3 | 5 | 5 | 5 | 8  | 11 | 14 | 13 | 12 | 11 | 10 | 10 | 12 | 15 | 14 |\n| C | 0 | 0 | 2 | 1 | 2 | 4 | 4 | 4 | 7  | 10 | 13 | 13 | 12 | 11 | 10 | 12 | 12 | 14 | 17 |\n| T | 0 | 0 | 1 | 1 | 3 | 4 | 3 | 3 | 6  | 9  | 12 | 12 | 15 | 14 | 13 | 12 | 11 | 14 | 16 |\n| T | 0 | 0 | 0 | 0 | 3 | 5 | 4 | 3 | 5  | 8  | 11 | 11 | 14 | 14 | 13 | 12 | 11 | 13 | 15 |\n| T | 0 | 0 | 0 | 0 | 2 | 5 | 4 | 3 | 4  | 7  | 10 | 10 | 13 | 13 | 13 | 12 | 11 | 13 | 14 |\n| G | 0 | 0 | 0 | 2 | 1 | 4 | 7 | 6 | 5  | 6  | 9  | 12 | 12 | 12 | 12 | 12 | 11 | 12 | 13 |\n| C | 0 | 0 | 2 | 1 | 1 | 3 | 6 | 6 | 8  | 7  | 8  | 11 | 11 | 11 | 11 | 14 | 14 | 13 | 14 |\n| C | 0 | 0 | 2 | 1 | 0 | 2 | 5 | 5 | 8  | 10 | 9  | 10 | 10 | 10 | 10 | 13 | 16 | 15 | 15 |\n| C | 0 | 0 | 2 | 1 | 0 | 1 | 4 | 4 | 7  | 10 | 9  | 9  | 9  | 9  | 9  | 12 | 15 | 15 | 17 |\n\n(1)\n\nACGTTGACCTGTAA-CCTC\nACCTTGTCCTCTTTGCC-C\n\n(2)\n\nACGTTGACCTGTA-ACCTC\nACCTTGTCCTCTTTGCC-C\n\n(3)\n\nACGTTGACCTG-TAACCTC\nACCTTGTCCTCTTTGCC-C\n\n(4)\n\nACGTTGACCT-GTAACCTC\nACCTTGTCCTCTTTGCC-C\n"
     ]
    }
   ],
   "source": [
    "waterman(a = \"ACGTTGACCTGTAACCTC\" , b = \"ACCTTGTCCTCTTTGCCC\", match = 2, mismatch=-1, gap = -1)"
   ]
  },
  {
   "cell_type": "code",
   "execution_count": 7,
   "metadata": {},
   "outputs": [
    {
     "output_type": "stream",
     "name": "stdout",
     "text": [
      "|---|---|---|---|---|---|---|---|---|---|\n|   | A | C | G | T | A | G | A | T | G |\n| A |   |   |   |   |   |   |   |   |   |\n| C |   | x |   |   |   |   |   | x |   |\n| G |   |   |   |   |   |   |   |   |   |\n| A |   |   |   |   |   |   |   |   |   |\n| A |   | x |   |   | x |   |   | x |   |\n| G |   |   |   |   |   |   |   |   |   |\n"
     ]
    }
   ],
   "source": [
    "dot_matrix(a = \"ACGTAGATG\", b = \"ACGAAG\", size = 3, step = 3, thresh = 2)"
   ]
  }
 ]
}